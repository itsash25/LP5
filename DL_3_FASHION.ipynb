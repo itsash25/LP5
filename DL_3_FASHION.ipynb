{
  "nbformat": 4,
  "nbformat_minor": 0,
  "metadata": {
    "colab": {
      "provenance": []
    },
    "kernelspec": {
      "name": "python3",
      "display_name": "Python 3"
    },
    "language_info": {
      "name": "python"
    }
  },
  "cells": [
    {
      "cell_type": "code",
      "execution_count": 1,
      "metadata": {
        "id": "KfSlG-cDGFqk"
      },
      "outputs": [],
      "source": [
        "import numpy as np\n",
        "from tensorflow.keras.datasets import fashion_mnist\n",
        "from tensorflow.keras.models import Sequential\n",
        "from tensorflow.keras.layers import Conv2D, MaxPooling2D, Flatten, Dense, Dropout\n",
        "from tensorflow.keras.utils import to_categorical"
      ]
    },
    {
      "cell_type": "code",
      "source": [
        "# Load the Fashion MNIST dataset\n",
        "(X_train, y_train), (X_test, y_test) = fashion_mnist.load_data()"
      ],
      "metadata": {
        "colab": {
          "base_uri": "https://localhost:8080/"
        },
        "id": "XK54nzYfGdMU",
        "outputId": "cb27c2a3-5696-439a-8e90-3ecb4ff75a0a"
      },
      "execution_count": 2,
      "outputs": [
        {
          "output_type": "stream",
          "name": "stdout",
          "text": [
            "Downloading data from https://storage.googleapis.com/tensorflow/tf-keras-datasets/train-labels-idx1-ubyte.gz\n",
            "29515/29515 [==============================] - 0s 0us/step\n",
            "Downloading data from https://storage.googleapis.com/tensorflow/tf-keras-datasets/train-images-idx3-ubyte.gz\n",
            "26421880/26421880 [==============================] - 0s 0us/step\n",
            "Downloading data from https://storage.googleapis.com/tensorflow/tf-keras-datasets/t10k-labels-idx1-ubyte.gz\n",
            "5148/5148 [==============================] - 0s 0us/step\n",
            "Downloading data from https://storage.googleapis.com/tensorflow/tf-keras-datasets/t10k-images-idx3-ubyte.gz\n",
            "4422102/4422102 [==============================] - 0s 0us/step\n"
          ]
        }
      ]
    },
    {
      "cell_type": "code",
      "source": [
        "# Reshape and normalize the data\n",
        "X_train = X_train.reshape(X_train.shape[0], 28, 28, 1).astype('float32') / 255\n",
        "X_test = X_test.reshape(X_test.shape[0], 28, 28, 1).astype('float32') / 255"
      ],
      "metadata": {
        "id": "9wXEUt70GfMN"
      },
      "execution_count": 3,
      "outputs": []
    },
    {
      "cell_type": "code",
      "source": [
        "# One-hot encode the target labels\n",
        "y_train = to_categorical(y_train)\n",
        "y_test = to_categorical(y_test)"
      ],
      "metadata": {
        "id": "A9gwrpdGGhfL"
      },
      "execution_count": 4,
      "outputs": []
    },
    {
      "cell_type": "code",
      "source": [
        "# Define the CNN model\n",
        "model = Sequential([\n",
        "    Conv2D(32, (3, 3), activation='relu', input_shape=(28, 28, 1)),\n",
        "    MaxPooling2D((2, 2)),\n",
        "    Conv2D(64, (3, 3), activation='relu'),\n",
        "    MaxPooling2D((2, 2)),\n",
        "    Flatten(),\n",
        "    Dense(128, activation='relu'),\n",
        "    Dropout(0.5),\n",
        "    Dense(10, activation='softmax')  # Output layer with 10 neurons for 10 categories\n",
        "])"
      ],
      "metadata": {
        "id": "Fumta-fWGkKw"
      },
      "execution_count": 5,
      "outputs": []
    },
    {
      "cell_type": "code",
      "source": [
        "# Compile the model\n",
        "model.compile(optimizer='adam', loss='categorical_crossentropy', metrics=['accuracy'])"
      ],
      "metadata": {
        "id": "10O473mDGmD7"
      },
      "execution_count": 6,
      "outputs": []
    },
    {
      "cell_type": "code",
      "source": [
        "# Train the model\n",
        "batch_size = 128\n",
        "epochs = 10\n",
        "model.fit(X_train, y_train, epochs=epochs, batch_size=batch_size, validation_data=(X_test, y_test))"
      ],
      "metadata": {
        "colab": {
          "base_uri": "https://localhost:8080/"
        },
        "id": "gdZsehwVGoQx",
        "outputId": "14238272-a50d-4f2c-ed79-cb4607b33ba7"
      },
      "execution_count": 7,
      "outputs": [
        {
          "output_type": "stream",
          "name": "stdout",
          "text": [
            "Epoch 1/10\n",
            "469/469 [==============================] - 46s 95ms/step - loss: 0.6430 - accuracy: 0.7702 - val_loss: 0.4189 - val_accuracy: 0.8500\n",
            "Epoch 2/10\n",
            "469/469 [==============================] - 41s 88ms/step - loss: 0.4128 - accuracy: 0.8530 - val_loss: 0.3520 - val_accuracy: 0.8724\n",
            "Epoch 3/10\n",
            "469/469 [==============================] - 41s 88ms/step - loss: 0.3563 - accuracy: 0.8728 - val_loss: 0.3210 - val_accuracy: 0.8823\n",
            "Epoch 4/10\n",
            "469/469 [==============================] - 43s 92ms/step - loss: 0.3257 - accuracy: 0.8845 - val_loss: 0.3050 - val_accuracy: 0.8891\n",
            "Epoch 5/10\n",
            "469/469 [==============================] - 41s 88ms/step - loss: 0.3006 - accuracy: 0.8921 - val_loss: 0.2825 - val_accuracy: 0.8985\n",
            "Epoch 6/10\n",
            "469/469 [==============================] - 42s 89ms/step - loss: 0.2819 - accuracy: 0.8969 - val_loss: 0.2721 - val_accuracy: 0.9009\n",
            "Epoch 7/10\n",
            "469/469 [==============================] - 42s 89ms/step - loss: 0.2659 - accuracy: 0.9035 - val_loss: 0.2622 - val_accuracy: 0.9044\n",
            "Epoch 8/10\n",
            "469/469 [==============================] - 41s 88ms/step - loss: 0.2502 - accuracy: 0.9081 - val_loss: 0.2565 - val_accuracy: 0.9067\n",
            "Epoch 9/10\n",
            "469/469 [==============================] - 42s 89ms/step - loss: 0.2396 - accuracy: 0.9128 - val_loss: 0.2530 - val_accuracy: 0.9097\n",
            "Epoch 10/10\n",
            "469/469 [==============================] - 42s 89ms/step - loss: 0.2292 - accuracy: 0.9157 - val_loss: 0.2628 - val_accuracy: 0.9017\n"
          ]
        },
        {
          "output_type": "execute_result",
          "data": {
            "text/plain": [
              "<keras.src.callbacks.History at 0x78bd0554bac0>"
            ]
          },
          "metadata": {},
          "execution_count": 7
        }
      ]
    },
    {
      "cell_type": "code",
      "source": [
        "# Evaluate the model on test data\n",
        "loss, accuracy = model.evaluate(X_test, y_test)\n",
        "print(\"Test Loss:\", loss)\n",
        "print(\"Test Accuracy:\", accuracy)"
      ],
      "metadata": {
        "colab": {
          "base_uri": "https://localhost:8080/"
        },
        "id": "8hQzVFPDGqAl",
        "outputId": "ff4122a6-cb08-4a0a-b4b7-326df70d7458"
      },
      "execution_count": 8,
      "outputs": [
        {
          "output_type": "stream",
          "name": "stdout",
          "text": [
            "313/313 [==============================] - 3s 8ms/step - loss: 0.2628 - accuracy: 0.9017\n",
            "Test Loss: 0.2628248631954193\n",
            "Test Accuracy: 0.9017000198364258\n"
          ]
        }
      ]
    },
    {
      "cell_type": "code",
      "source": [
        "# Make predictions on the test data\n",
        "predictions = model.predict(X_test)"
      ],
      "metadata": {
        "colab": {
          "base_uri": "https://localhost:8080/"
        },
        "id": "8nb0dmnYIZPi",
        "outputId": "ae54f6bf-0443-4fb5-a7ae-ae6477a40bad"
      },
      "execution_count": 9,
      "outputs": [
        {
          "output_type": "stream",
          "name": "stdout",
          "text": [
            "313/313 [==============================] - 2s 7ms/step\n"
          ]
        }
      ]
    },
    {
      "cell_type": "code",
      "source": [
        "# Convert predictions from one-hot encoded format to class labels\n",
        "predicted_labels = np.argmax(predictions, axis=1)"
      ],
      "metadata": {
        "id": "YPizSyobI7qT"
      },
      "execution_count": 10,
      "outputs": []
    },
    {
      "cell_type": "code",
      "source": [
        "# Convert true labels from one-hot encoded format to class labels\n",
        "true_labels = np.argmax(y_test, axis=1)"
      ],
      "metadata": {
        "id": "lwsNi63YI-FD"
      },
      "execution_count": 11,
      "outputs": []
    },
    {
      "cell_type": "code",
      "source": [
        "# Print the predicted and true labels for the first 10 samples\n",
        "for i in range(10):\n",
        "    print(\"Sample\", i+1)\n",
        "    print(\"Predicted Label:\", predicted_labels[i])\n",
        "    print(\"True Label:\", true_labels[i])\n",
        "    print()"
      ],
      "metadata": {
        "colab": {
          "base_uri": "https://localhost:8080/"
        },
        "id": "c3mLyHxWI_wz",
        "outputId": "39a08a95-98cf-4336-da89-8c498e6dd26c"
      },
      "execution_count": 12,
      "outputs": [
        {
          "output_type": "stream",
          "name": "stdout",
          "text": [
            "Sample 1\n",
            "Predicted Label: 9\n",
            "True Label: 9\n",
            "\n",
            "Sample 2\n",
            "Predicted Label: 2\n",
            "True Label: 2\n",
            "\n",
            "Sample 3\n",
            "Predicted Label: 1\n",
            "True Label: 1\n",
            "\n",
            "Sample 4\n",
            "Predicted Label: 1\n",
            "True Label: 1\n",
            "\n",
            "Sample 5\n",
            "Predicted Label: 6\n",
            "True Label: 6\n",
            "\n",
            "Sample 6\n",
            "Predicted Label: 1\n",
            "True Label: 1\n",
            "\n",
            "Sample 7\n",
            "Predicted Label: 4\n",
            "True Label: 4\n",
            "\n",
            "Sample 8\n",
            "Predicted Label: 6\n",
            "True Label: 6\n",
            "\n",
            "Sample 9\n",
            "Predicted Label: 5\n",
            "True Label: 5\n",
            "\n",
            "Sample 10\n",
            "Predicted Label: 7\n",
            "True Label: 7\n",
            "\n"
          ]
        }
      ]
    },
    {
      "cell_type": "code",
      "source": [],
      "metadata": {
        "id": "UxHkjOPkJfVm"
      },
      "execution_count": null,
      "outputs": []
    }
  ]
}