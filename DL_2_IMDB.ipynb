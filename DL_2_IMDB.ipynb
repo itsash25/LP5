{
  "cells": [
    {
      "cell_type": "code",
      "execution_count": 10,
      "metadata": {
        "id": "FFTKTPYF3Eor"
      },
      "outputs": [],
      "source": [
        "import numpy as np\n",
        "from tensorflow.keras.datasets import imdb\n",
        "from tensorflow.keras.models import Sequential\n",
        "from tensorflow.keras.layers import Dense, LSTM, Embedding, SpatialDropout1D\n",
        "from tensorflow.keras.preprocessing.sequence import pad_sequences"
      ]
    },
    {
      "cell_type": "code",
      "execution_count": 2,
      "metadata": {
        "colab": {
          "base_uri": "https://localhost:8080/"
        },
        "id": "iczIioGE3GxK",
        "outputId": "e91f21e0-c36a-4cbf-cc73-2ed4157b3d9b"
      },
      "outputs": [
        {
          "name": "stdout",
          "output_type": "stream",
          "text": [
            "Downloading data from https://storage.googleapis.com/tensorflow/tf-keras-datasets/imdb.npz\n",
            "17464789/17464789 [==============================] - 0s 0us/step\n"
          ]
        }
      ],
      "source": [
        "# Load the IMDb dataset\n",
        "max_words = 10000  # Consider only the top 10,000 most frequent words\n",
        "maxlen = 200  # Maximum sequence length\n",
        "(X_train, y_train), (X_test, y_test) = imdb.load_data(num_words=max_words)"
      ]
    },
    {
      "cell_type": "markdown",
      "metadata": {
        "id": "UpiWk4i06DMk"
      },
      "source": []
    },
    {
      "cell_type": "code",
      "execution_count": 12,
      "metadata": {
        "id": "XSG99OWg3Mhg"
      },
      "outputs": [],
      "source": [
        "# Pad sequences to ensure uniform length\n",
        "max_length = 200\n",
        "X_train = pad_sequences(X_train, maxlen=maxlen)\n",
        "X_test = pad_sequences(X_test, maxlen=maxlen)"
      ]
    },
    {
      "cell_type": "code",
      "execution_count": 13,
      "metadata": {
        "id": "kOOHp3963ObK"
      },
      "outputs": [],
      "source": [
        "# Define the LSTM model\n",
        "embedding_size = 128\n",
        "model = Sequential([\n",
        "    Embedding(input_dim=max_words, output_dim=embedding_size, input_length=max_length),\n",
        "    SpatialDropout1D(0.2),\n",
        "    LSTM(100),\n",
        "    Dense(1, activation='sigmoid')\n",
        "])"
      ]
    },
    {
      "cell_type": "code",
      "execution_count": 14,
      "metadata": {
        "id": "STdUUrxS3PBw"
      },
      "outputs": [],
      "source": [
        "# Compile the model\n",
        "model.compile(optimizer='adam', loss='binary_crossentropy', metrics=['accuracy'])\n"
      ]
    },
    {
      "cell_type": "code",
      "execution_count": 15,
      "metadata": {
        "colab": {
          "base_uri": "https://localhost:8080/"
        },
        "id": "6Qa7vn5h3Sd2",
        "outputId": "bcc71280-35ce-4f2f-f6f4-0e31ef2289b7"
      },
      "outputs": [
        {
          "name": "stdout",
          "output_type": "stream",
          "text": [
            "Epoch 1/5\n",
            "391/391 - 182s - loss: 0.3892 - accuracy: 0.8230 - val_loss: 0.3022 - val_accuracy: 0.8738 - 182s/epoch - 466ms/step\n",
            "Epoch 2/5\n",
            "391/391 - 219s - loss: 0.2374 - accuracy: 0.9089 - val_loss: 0.3159 - val_accuracy: 0.8689 - 219s/epoch - 559ms/step\n",
            "Epoch 3/5\n",
            "391/391 - 218s - loss: 0.1934 - accuracy: 0.9280 - val_loss: 0.3942 - val_accuracy: 0.8171 - 218s/epoch - 556ms/step\n",
            "Epoch 4/5\n",
            "391/391 - 218s - loss: 0.1382 - accuracy: 0.9508 - val_loss: 0.3781 - val_accuracy: 0.8526 - 218s/epoch - 556ms/step\n",
            "Epoch 5/5\n",
            "391/391 - 218s - loss: 0.1237 - accuracy: 0.9556 - val_loss: 0.4808 - val_accuracy: 0.8494 - 218s/epoch - 557ms/step\n"
          ]
        },
        {
          "data": {
            "text/plain": [
              "<keras.src.callbacks.History at 0x7dd317bb7850>"
            ]
          },
          "execution_count": 15,
          "metadata": {},
          "output_type": "execute_result"
        }
      ],
      "source": [
        "# Train the model\n",
        "batch_size = 64\n",
        "epochs = 5\n",
        "model.fit(X_train, y_train, epochs=epochs, batch_size=batch_size, validation_data=(X_test, y_test), verbose=2)"
      ]
    },
    {
      "cell_type": "code",
      "execution_count": 17,
      "metadata": {
        "colab": {
          "base_uri": "https://localhost:8080/"
        },
        "id": "Woj8HanX3TGt",
        "outputId": "18fb6723-6fae-473b-81bb-9ac480aad342"
      },
      "outputs": [
        {
          "name": "stdout",
          "output_type": "stream",
          "text": [
            "Test Loss: 0.4808140993118286\n",
            "Test Accuracy: 0.8493599891662598\n"
          ]
        }
      ],
      "source": [
        "# Evaluate the model on test data\n",
        "loss, accuracy = model.evaluate(X_test, y_test, verbose=0)\n",
        "print(\"Test Loss:\", loss)\n",
        "print(\"Test Accuracy:\", accuracy)"
      ]
    },
    {
      "cell_type": "code",
      "execution_count": 8,
      "metadata": {
        "colab": {
          "base_uri": "https://localhost:8080/"
        },
        "id": "vzL-mf2s4UTF",
        "outputId": "af9c97a9-2b14-4daa-c743-be7b9a65971d"
      },
      "outputs": [
        {
          "data": {
            "text/plain": [
              "<module 'keras.api._v2.keras.datasets.imdb' from '/usr/local/lib/python3.10/dist-packages/keras/api/_v2/keras/datasets/imdb/__init__.py'>"
            ]
          },
          "execution_count": 8,
          "metadata": {},
          "output_type": "execute_result"
        }
      ],
      "source": [
        "# Make predictions on the test data\n",
        "predictions = model.predict(X_test)"
      ]
    },
    {
      "cell_type": "code",
      "execution_count": null,
      "metadata": {
        "id": "GMgcvHnX4j4V"
      },
      "outputs": [],
      "source": [
        "# Convert predictions to class labels\n",
        "predicted_labels = np.round(predictions).flatten().astype(int)"
      ]
    },
    {
      "cell_type": "code",
      "execution_count": null,
      "metadata": {},
      "outputs": [],
      "source": [
        "# Print the first 10 predictions along with the corresponding true labels\n",
        "print(\"Predicted Labels:\", predicted_labels[:10])\n",
        "print(\"True Labels:\", y_test[:10])"
      ]
    }
  ],
  "metadata": {
    "colab": {
      "provenance": []
    },
    "kernelspec": {
      "display_name": "Python 3",
      "name": "python3"
    },
    "language_info": {
      "name": "python"
    }
  },
  "nbformat": 4,
  "nbformat_minor": 0
}
